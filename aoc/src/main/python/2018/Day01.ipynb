{
 "cells": [
  {
   "cell_type": "code",
   "execution_count": 7,
   "metadata": {},
   "outputs": [],
   "source": [
    "with open('F:/Documenten/Programming/AdventOfCode/AdventOfCode2018/src/main/resources/InputDay01.txt', 'r') as f:\n",
    "    changes = [int(x.strip()) for x in f.readlines()]"
   ]
  },
  {
   "cell_type": "markdown",
   "metadata": {},
   "source": [
    "### Part 1"
   ]
  },
  {
   "cell_type": "code",
   "execution_count": 4,
   "metadata": {},
   "outputs": [
    {
     "name": "stdout",
     "output_type": "stream",
     "text": [
      "Result part 1: 433\n"
     ]
    }
   ],
   "source": [
    "print(f\"Result part 1: {sum(changes)}\")"
   ]
  },
  {
   "cell_type": "markdown",
   "metadata": {},
   "source": [
    "### Part 2"
   ]
  },
  {
   "cell_type": "code",
   "execution_count": 9,
   "metadata": {},
   "outputs": [
    {
     "name": "stdout",
     "output_type": "stream",
     "text": [
      "Result part 2: 256\n"
     ]
    }
   ],
   "source": [
    "seen_freqs = set()\n",
    "cur_freq = 0\n",
    "found = False\n",
    "\n",
    "while not found:\n",
    "    for delta in changes:\n",
    "        if cur_freq in seen_freqs:\n",
    "            found = True\n",
    "            break\n",
    "        seen_freqs.add(cur_freq)\n",
    "        cur_freq = cur_freq + delta\n",
    "    if found:\n",
    "        print(f\"Result part 2: {cur_freq}\")\n",
    "        break\n"
   ]
  }
 ],
 "metadata": {
  "kernelspec": {
   "display_name": "Python 3.7.11 ('base')",
   "language": "python",
   "name": "python3"
  },
  "language_info": {
   "codemirror_mode": {
    "name": "ipython",
    "version": 3
   },
   "file_extension": ".py",
   "mimetype": "text/x-python",
   "name": "python",
   "nbconvert_exporter": "python",
   "pygments_lexer": "ipython3",
   "version": "3.7.11"
  },
  "orig_nbformat": 4,
  "vscode": {
   "interpreter": {
    "hash": "856a6fa98c9b0b5c882dc84aee3f78e54cc7278b4c89ab6bd76f6bec6362e4f4"
   }
  }
 },
 "nbformat": 4,
 "nbformat_minor": 2
}
