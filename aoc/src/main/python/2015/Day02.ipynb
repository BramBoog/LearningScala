{
 "cells": [
  {
   "cell_type": "code",
   "execution_count": 15,
   "metadata": {},
   "outputs": [],
   "source": [
    "import re\n",
    "from functools import reduce"
   ]
  },
  {
   "cell_type": "code",
   "execution_count": 27,
   "metadata": {},
   "outputs": [],
   "source": [
    "work_laptop_path = \"C:/Users/bboogaar/source/repos/Scala workshop/Projects/aoc/src/main/resources/2015/InputDay02.txt\"\n",
    "\n",
    "with open(work_laptop_path, 'r') as f:\n",
    "    measurements: 'list[list[int]]' = [list(map(lambda x: int(x), lst)) for lst in [re.findall('[0-9]+', line) for line in f.readlines()]]"
   ]
  },
  {
   "cell_type": "markdown",
   "metadata": {},
   "source": [
    "### Part 1"
   ]
  },
  {
   "cell_type": "code",
   "execution_count": 11,
   "metadata": {},
   "outputs": [],
   "source": [
    "def create_combinations(iter):\n",
    "    return [[x,y] for (i,x) in enumerate(iter) for (j,y) in enumerate(iter) if j > i]"
   ]
  },
  {
   "cell_type": "code",
   "execution_count": 29,
   "metadata": {},
   "outputs": [],
   "source": [
    "measurements_combinations: 'list[list[list[int]]]' = list(map(create_combinations, measurements))\n",
    "areas_per_box: 'list[list[int]]' = [list(map(lambda comb_lst: comb_lst[0] * comb_lst[1], box_lst)) for box_lst in measurements_combinations]"
   ]
  },
  {
   "cell_type": "code",
   "execution_count": 34,
   "metadata": {},
   "outputs": [],
   "source": [
    "total_area_per_box = list(map(lambda lst: min(lst) + 2 * reduce(lambda x, y: x + y, lst), areas_per_box))"
   ]
  },
  {
   "cell_type": "code",
   "execution_count": 35,
   "metadata": {},
   "outputs": [
    {
     "name": "stdout",
     "output_type": "stream",
     "text": [
      "Result part 1: 1606483\n"
     ]
    }
   ],
   "source": [
    "print(f\"Result part 1: {sum(total_area_per_box)}\")"
   ]
  },
  {
   "cell_type": "code",
   "execution_count": null,
   "metadata": {},
   "outputs": [],
   "source": []
  }
 ],
 "metadata": {
  "kernelspec": {
   "display_name": "Python 3.10.6 64-bit",
   "language": "python",
   "name": "python3"
  },
  "language_info": {
   "codemirror_mode": {
    "name": "ipython",
    "version": 3
   },
   "file_extension": ".py",
   "mimetype": "text/x-python",
   "name": "python",
   "nbconvert_exporter": "python",
   "pygments_lexer": "ipython3",
   "version": "3.10.6"
  },
  "orig_nbformat": 4,
  "vscode": {
   "interpreter": {
    "hash": "a6476a585a37932237fba3db547c44bdabeec797f13168fec5ca1adf463f855b"
   }
  }
 },
 "nbformat": 4,
 "nbformat_minor": 2
}
