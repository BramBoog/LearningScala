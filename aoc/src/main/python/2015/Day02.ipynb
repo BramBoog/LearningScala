{
 "cells": [
  {
   "cell_type": "code",
   "execution_count": 1,
   "metadata": {},
   "outputs": [],
   "source": [
    "import re\n",
    "from functools import reduce"
   ]
  },
  {
   "cell_type": "code",
   "execution_count": 26,
   "metadata": {},
   "outputs": [],
   "source": [
    "work_laptop_base_path = \"C:/Users/bboogaar/source/repos/Scala workshop/Projects/\"\n",
    "pers_pc_base_path = \"F:/Documenten/Programming/Scala workshop/\"\n",
    "relative_path = \"aoc/src/main/resources/2015/InputDay02.txt\"\n",
    "\n",
    "with open(pers_pc_base_path + relative_path, 'r') as f:\n",
    "    measurements: 'list[list[int]]' = [list(map(lambda x: int(x), lst)) for lst in [re.findall('[0-9]+', line) for line in f.readlines()]]"
   ]
  },
  {
   "cell_type": "markdown",
   "metadata": {},
   "source": [
    "### Part 1"
   ]
  },
  {
   "cell_type": "code",
   "execution_count": 3,
   "metadata": {},
   "outputs": [],
   "source": [
    "def create_combinations(iter):\n",
    "    return [[x,y] for (i,x) in enumerate(iter) for (j,y) in enumerate(iter) if j > i]"
   ]
  },
  {
   "cell_type": "code",
   "execution_count": 4,
   "metadata": {},
   "outputs": [],
   "source": [
    "measurements_combinations: 'list[list[list[int]]]' = list(map(create_combinations, measurements))\n",
    "areas_per_box: 'list[list[int]]' = [list(map(lambda comb_lst: comb_lst[0] * comb_lst[1], box_lst)) for box_lst in measurements_combinations]\n",
    "total_area_per_box: 'list[int]' = list(map(lambda lst: min(lst) + 2 * reduce(lambda x, y: x + y, lst), areas_per_box))"
   ]
  },
  {
   "cell_type": "code",
   "execution_count": 6,
   "metadata": {},
   "outputs": [
    {
     "name": "stdout",
     "output_type": "stream",
     "text": [
      "Result part 1: 1606483\n"
     ]
    }
   ],
   "source": [
    "print(f\"Result part 1: {sum(total_area_per_box)}\")"
   ]
  },
  {
   "cell_type": "markdown",
   "metadata": {},
   "source": [
    "### Part 2"
   ]
  },
  {
   "cell_type": "code",
   "execution_count": 27,
   "metadata": {},
   "outputs": [],
   "source": [
    "def calc_ribbon_length(box_lst: 'list[int]') -> int:\n",
    "    bow_length = reduce(lambda x, y: x * y, box_lst)\n",
    "    first_min = box_lst.pop(box_lst.index(min(box_lst)))\n",
    "    second_min = box_lst.pop(box_lst.index(min(box_lst)))\n",
    "    wrap_length = 2*(first_min + second_min)\n",
    "    return bow_length + wrap_length"
   ]
  },
  {
   "cell_type": "code",
   "execution_count": 28,
   "metadata": {},
   "outputs": [],
   "source": [
    "ribbon_length_per_box: 'list[int]' = list(map(calc_ribbon_length, measurements))"
   ]
  },
  {
   "cell_type": "code",
   "execution_count": 29,
   "metadata": {},
   "outputs": [
    {
     "name": "stdout",
     "output_type": "stream",
     "text": [
      "Result part 2: 3842356\n"
     ]
    }
   ],
   "source": [
    "print(f\"Result part 2: {sum(ribbon_length_per_box)}\")"
   ]
  },
  {
   "cell_type": "code",
   "execution_count": null,
   "metadata": {},
   "outputs": [],
   "source": []
  }
 ],
 "metadata": {
  "kernelspec": {
   "display_name": "Python 3.7.11 ('base')",
   "language": "python",
   "name": "python3"
  },
  "language_info": {
   "codemirror_mode": {
    "name": "ipython",
    "version": 3
   },
   "file_extension": ".py",
   "mimetype": "text/x-python",
   "name": "python",
   "nbconvert_exporter": "python",
   "pygments_lexer": "ipython3",
   "version": "3.7.11"
  },
  "orig_nbformat": 4,
  "vscode": {
   "interpreter": {
    "hash": "856a6fa98c9b0b5c882dc84aee3f78e54cc7278b4c89ab6bd76f6bec6362e4f4"
   }
  }
 },
 "nbformat": 4,
 "nbformat_minor": 2
}
