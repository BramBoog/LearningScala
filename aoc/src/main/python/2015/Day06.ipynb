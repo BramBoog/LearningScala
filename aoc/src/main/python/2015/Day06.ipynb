{
 "cells": [
  {
   "cell_type": "code",
   "execution_count": 6,
   "metadata": {},
   "outputs": [],
   "source": [
    "import re\n",
    "import numpy as np"
   ]
  },
  {
   "cell_type": "code",
   "execution_count": 7,
   "metadata": {},
   "outputs": [],
   "source": [
    "work_laptop_base_path = \"C:/Users/bboogaar/source/repos/Scala workshop/Projects/\"\n",
    "pers_pc_base_path = \"D:/Documenten/Programming/Scala workshop/\"\n",
    "relative_path = \"aoc/src/main/resources/2015/InputDay06.txt\"\n",
    "\n",
    "with open(work_laptop_base_path + relative_path, 'r') as f:\n",
    "    instruction_strings: 'list[str]' = [x.rstrip() for x in f.readlines()]"
   ]
  },
  {
   "cell_type": "code",
   "execution_count": 8,
   "metadata": {},
   "outputs": [],
   "source": [
    "class Instruction():\n",
    "    def __init__(self, instruction_str: str):\n",
    "        matches = re.findall(\"([a-z]+) ([0-9]+,[0-9]+) through ([0-9]+,[0-9]+)\", instruction_str)[0]\n",
    "        self.type: str = matches[0]\n",
    "        (self.bottom_left_x, self.bottom_left_y) = tuple(int(x) for x in re.split(',', matches[1]))\n",
    "        (self.top_right_x, self.top_right_y) = tuple(int(x) for x in re.split(',', matches[2]))\n",
    "\n",
    "instructions = [Instruction(instr) for instr in instruction_strings]"
   ]
  },
  {
   "cell_type": "markdown",
   "metadata": {},
   "source": [
    "### Part 1"
   ]
  },
  {
   "cell_type": "code",
   "execution_count": 19,
   "metadata": {},
   "outputs": [],
   "source": [
    "def take_light_instruction_1(instr: str, cur: int):\n",
    "    if instr == 'on':\n",
    "        return 1\n",
    "    elif instr == 'off':\n",
    "        return 0\n",
    "    elif instr == 'toggle':\n",
    "        return 1 if cur == 0 else 0\n",
    "    else:\n",
    "        raise ValueError(f\"The instruction type {instr} was not recognised!\")"
   ]
  },
  {
   "cell_type": "code",
   "execution_count": 20,
   "metadata": {},
   "outputs": [],
   "source": [
    "lights_array_1 = np.zeros((1000,1000), dtype=np.int8)\n",
    "\n",
    "for instr in instructions:\n",
    "    for i in range(instr.bottom_left_x, instr.top_right_x + 1):\n",
    "        for j in range(instr.bottom_left_y, instr.top_right_y + 1):\n",
    "            lights_array_1[j,i] = take_light_instruction_1(instr.type, lights_array_1[j,i])"
   ]
  },
  {
   "cell_type": "code",
   "execution_count": 21,
   "metadata": {},
   "outputs": [
    {
     "name": "stdout",
     "output_type": "stream",
     "text": [
      "Result part 1: 377891\n"
     ]
    }
   ],
   "source": [
    "print(f\"Result part 1: {np.sum(lights_array_1)}\")"
   ]
  },
  {
   "cell_type": "markdown",
   "metadata": {},
   "source": [
    "### Part 2"
   ]
  },
  {
   "cell_type": "code",
   "execution_count": 22,
   "metadata": {},
   "outputs": [],
   "source": [
    "def take_light_instruction_2(instr: str, cur: int):\n",
    "    if instr == 'on':\n",
    "        return cur + 1\n",
    "    elif instr == 'off':\n",
    "        return cur - 1 if cur > 0 else 0\n",
    "    elif instr == 'toggle':\n",
    "        return cur + 2\n",
    "    else:\n",
    "        raise ValueError(f\"The instruction type {instr} was not recognised!\")"
   ]
  },
  {
   "cell_type": "code",
   "execution_count": 23,
   "metadata": {},
   "outputs": [],
   "source": [
    "lights_array_2 = np.zeros((1000,1000), dtype=np.int8)\n",
    "\n",
    "for instr in instructions:\n",
    "    for i in range(instr.bottom_left_x, instr.top_right_x + 1):\n",
    "        for j in range(instr.bottom_left_y, instr.top_right_y + 1):\n",
    "            lights_array_2[i,j] = take_light_instruction_2(instr.type, lights_array_2[i,j])"
   ]
  },
  {
   "cell_type": "code",
   "execution_count": 24,
   "metadata": {},
   "outputs": [
    {
     "name": "stdout",
     "output_type": "stream",
     "text": [
      "Result part 2: 14110788\n"
     ]
    }
   ],
   "source": [
    "print(f\"Result part 2: {np.sum(lights_array_2)}\")"
   ]
  },
  {
   "cell_type": "code",
   "execution_count": null,
   "metadata": {},
   "outputs": [],
   "source": []
  }
 ],
 "metadata": {
  "kernelspec": {
   "display_name": "Python 3.10.6 64-bit",
   "language": "python",
   "name": "python3"
  },
  "language_info": {
   "codemirror_mode": {
    "name": "ipython",
    "version": 3
   },
   "file_extension": ".py",
   "mimetype": "text/x-python",
   "name": "python",
   "nbconvert_exporter": "python",
   "pygments_lexer": "ipython3",
   "version": "3.10.6"
  },
  "orig_nbformat": 4,
  "vscode": {
   "interpreter": {
    "hash": "a6476a585a37932237fba3db547c44bdabeec797f13168fec5ca1adf463f855b"
   }
  }
 },
 "nbformat": 4,
 "nbformat_minor": 2
}
