{
 "cells": [
  {
   "cell_type": "code",
   "execution_count": 1,
   "metadata": {},
   "outputs": [],
   "source": [
    "work_laptop_path = \"C:/Users/bboogaar/source/repos/Scala workshop/Projects/aoc/src/main/resources/2015/InputDay01.txt\"\n",
    "\n",
    "with open(work_laptop_path, 'r') as f:\n",
    "    instructions = f.readlines()[0]"
   ]
  },
  {
   "cell_type": "markdown",
   "metadata": {},
   "source": [
    "### Part 1"
   ]
  },
  {
   "cell_type": "code",
   "execution_count": 2,
   "metadata": {},
   "outputs": [
    {
     "name": "stdout",
     "output_type": "stream",
     "text": [
      "Result part 1: 138\n"
     ]
    }
   ],
   "source": [
    "# Part\n",
    "\n",
    "count_up, count_down = instructions.count('('), instructions.count(')')\n",
    "print(f\"Result part 1: {count_up - count_down}\")"
   ]
  },
  {
   "cell_type": "markdown",
   "metadata": {},
   "source": [
    "### Part 2"
   ]
  },
  {
   "cell_type": "code",
   "execution_count": 3,
   "metadata": {},
   "outputs": [
    {
     "name": "stdout",
     "output_type": "stream",
     "text": [
      "Result part 2: 1771\n"
     ]
    }
   ],
   "source": [
    "pos = 0\n",
    "\n",
    "for i, j in enumerate(instructions):\n",
    "    if j == '(':\n",
    "        pos += 1\n",
    "    elif j == ')':\n",
    "        pos -=1\n",
    "    \n",
    "    if pos == -1:\n",
    "        print(f\"Result part 2: {i+1}\")\n",
    "        break\n"
   ]
  },
  {
   "cell_type": "code",
   "execution_count": null,
   "metadata": {},
   "outputs": [],
   "source": []
  }
 ],
 "metadata": {
  "kernelspec": {
   "display_name": "Python 3.10.6 64-bit",
   "language": "python",
   "name": "python3"
  },
  "language_info": {
   "codemirror_mode": {
    "name": "ipython",
    "version": 3
   },
   "file_extension": ".py",
   "mimetype": "text/x-python",
   "name": "python",
   "nbconvert_exporter": "python",
   "pygments_lexer": "ipython3",
   "version": "3.10.6"
  },
  "orig_nbformat": 4,
  "vscode": {
   "interpreter": {
    "hash": "a6476a585a37932237fba3db547c44bdabeec797f13168fec5ca1adf463f855b"
   }
  }
 },
 "nbformat": 4,
 "nbformat_minor": 2
}
