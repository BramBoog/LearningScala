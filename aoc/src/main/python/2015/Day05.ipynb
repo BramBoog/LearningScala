{
 "cells": [
  {
   "cell_type": "code",
   "execution_count": 2,
   "metadata": {},
   "outputs": [],
   "source": [
    "work_laptop_base_path = \"C:/Users/bboogaar/source/repos/Scala workshop/Projects/\"\n",
    "pers_pc_base_path = \"D:/Documenten/Programming/Scala workshop/\"\n",
    "relative_path = \"aoc/src/main/resources/2015/InputDay05.txt\"\n",
    "\n",
    "with open(work_laptop_base_path + relative_path, 'r') as f:\n",
    "    strings: 'list[str]' = list(map(lambda x: x.rstrip(), f.readlines()))"
   ]
  },
  {
   "cell_type": "code",
   "execution_count": 3,
   "metadata": {},
   "outputs": [],
   "source": [
    "from typing import Callable\n",
    "from functools import reduce"
   ]
  },
  {
   "cell_type": "markdown",
   "metadata": {},
   "source": [
    "### Part 1"
   ]
  },
  {
   "cell_type": "code",
   "execution_count": 4,
   "metadata": {},
   "outputs": [],
   "source": [
    "vowels: 'set[str]' = {'a', 'e', 'i', 'o', 'u'}\n",
    "prohibited_strings: 'set[str]' = {'ab', 'cd', 'pq', 'xy'}\n",
    "\n",
    "def three_vowels(s: str) -> bool:\n",
    "    return len([char for char in s if char in vowels]) >= 3\n",
    "\n",
    "def two_letters_in_row(s: str) -> bool:\n",
    "    return len([s[i] + s[i+1] for i in range(len(s) - 1) if s[i] == s[i+1]]) > 0\n",
    "\n",
    "def no_prohibited_substrings(s: str) -> bool:\n",
    "    return len([ps for ps in prohibited_strings if ps in s]) == 0"
   ]
  },
  {
   "cell_type": "code",
   "execution_count": 5,
   "metadata": {},
   "outputs": [],
   "source": [
    "def count_nice(criteria: 'list[Callable[[str], bool]]') -> int:\n",
    "    return [reduce(lambda x, y: x and y, [crit(s) for crit in criteria]) for s in strings].count(True)"
   ]
  },
  {
   "cell_type": "code",
   "execution_count": 6,
   "metadata": {},
   "outputs": [
    {
     "name": "stdout",
     "output_type": "stream",
     "text": [
      "Result part 1: 255\n"
     ]
    }
   ],
   "source": [
    "print(f\"Result part 1: {count_nice([three_vowels, two_letters_in_row, no_prohibited_substrings])}\")"
   ]
  },
  {
   "cell_type": "markdown",
   "metadata": {},
   "source": [
    "### Part 2"
   ]
  },
  {
   "cell_type": "code",
   "execution_count": 7,
   "metadata": {},
   "outputs": [],
   "source": [
    "def recurring_pair(s: str) -> bool:\n",
    "    return len([s[i] + s[i+1] for i in range(len(s) - 1) if s.count(s[i] + s[i+1]) > 1]) > 0\n",
    "\n",
    "def repeating_letter_separated_by_one(s: str) -> bool:\n",
    "    return len([s[i] + s[i+1] + s[i+2] for i in range(len(s) - 2) if s[i] == s[i+2]]) > 0"
   ]
  },
  {
   "cell_type": "code",
   "execution_count": 8,
   "metadata": {},
   "outputs": [
    {
     "name": "stdout",
     "output_type": "stream",
     "text": [
      "Result part 2: 55\n"
     ]
    }
   ],
   "source": [
    "print(f\"Result part 2: {count_nice([recurring_pair, repeating_letter_separated_by_one])}\")"
   ]
  },
  {
   "cell_type": "code",
   "execution_count": null,
   "metadata": {},
   "outputs": [],
   "source": []
  }
 ],
 "metadata": {
  "kernelspec": {
   "display_name": "Python 3.10.6 64-bit",
   "language": "python",
   "name": "python3"
  },
  "language_info": {
   "codemirror_mode": {
    "name": "ipython",
    "version": 3
   },
   "file_extension": ".py",
   "mimetype": "text/x-python",
   "name": "python",
   "nbconvert_exporter": "python",
   "pygments_lexer": "ipython3",
   "version": "3.10.6"
  },
  "orig_nbformat": 4,
  "vscode": {
   "interpreter": {
    "hash": "a6476a585a37932237fba3db547c44bdabeec797f13168fec5ca1adf463f855b"
   }
  }
 },
 "nbformat": 4,
 "nbformat_minor": 2
}
