{
 "cells": [
  {
   "cell_type": "code",
   "execution_count": 1,
   "metadata": {},
   "outputs": [],
   "source": [
    "work_laptop_base_path = \"C:/Users/bboogaar/source/repos/Scala workshop/Projects/\"\n",
    "pers_pc_base_path = \"F:/Documenten/Programming/Scala workshop/\"\n",
    "relative_path = \"aoc/src/main/resources/2015/InputDay03.txt\"\n",
    "\n",
    "with open(work_laptop_base_path + relative_path, 'r') as f:\n",
    "    directions: str = f.readline()"
   ]
  },
  {
   "cell_type": "markdown",
   "metadata": {},
   "source": [
    "### Part 1"
   ]
  },
  {
   "cell_type": "code",
   "execution_count": 21,
   "metadata": {},
   "outputs": [],
   "source": [
    "def find_visited_houses(directions_str: str) -> 'set[tuple[int]]':\n",
    "    pos: 'tuple[int]' = (0, 0)\n",
    "    visited_houses: 'set[tuple[int]]' = {pos}\n",
    "\n",
    "    for dir in directions_str:\n",
    "        if dir == '>':\n",
    "            pos = (pos[0] + 1, pos[1])\n",
    "        elif dir == '<':\n",
    "            pos = (pos[0] - 1, pos[1])\n",
    "        elif dir == '^':\n",
    "            pos = (pos[0], pos[1] + 1)\n",
    "        elif dir == 'v':\n",
    "            pos = (pos[0], pos[1] - 1)\n",
    "\n",
    "        visited_houses.add(pos)\n",
    "\n",
    "    return visited_houses"
   ]
  },
  {
   "cell_type": "code",
   "execution_count": 22,
   "metadata": {},
   "outputs": [
    {
     "name": "stdout",
     "output_type": "stream",
     "text": [
      "Result part 1: 2565\n"
     ]
    }
   ],
   "source": [
    "print(f\"Result part 1: {len(find_visited_houses(directions))}\")"
   ]
  },
  {
   "cell_type": "markdown",
   "metadata": {},
   "source": [
    "### Part 2"
   ]
  },
  {
   "cell_type": "code",
   "execution_count": 23,
   "metadata": {},
   "outputs": [],
   "source": [
    "directions_santa = ''.join([char for (i, char) in enumerate(directions) if i % 2 == 0])\n",
    "visited_houses_santa = find_visited_houses(directions_santa)\n",
    "\n",
    "directions_robo_santa = ''.join([char for (i, char) in enumerate(directions) if i % 2 == 1])\n",
    "visited_houses_robo_santa = find_visited_houses(directions_robo_santa)\n",
    "\n",
    "all_visited_houses = visited_houses_santa | visited_houses_robo_santa"
   ]
  },
  {
   "cell_type": "code",
   "execution_count": 24,
   "metadata": {},
   "outputs": [
    {
     "name": "stdout",
     "output_type": "stream",
     "text": [
      "Result part 2: 2639\n"
     ]
    }
   ],
   "source": [
    "print(f\"Result part 2: {len(all_visited_houses)}\")"
   ]
  },
  {
   "cell_type": "code",
   "execution_count": null,
   "metadata": {},
   "outputs": [],
   "source": []
  }
 ],
 "metadata": {
  "kernelspec": {
   "display_name": "Python 3.10.6 64-bit",
   "language": "python",
   "name": "python3"
  },
  "language_info": {
   "codemirror_mode": {
    "name": "ipython",
    "version": 3
   },
   "file_extension": ".py",
   "mimetype": "text/x-python",
   "name": "python",
   "nbconvert_exporter": "python",
   "pygments_lexer": "ipython3",
   "version": "3.10.6"
  },
  "orig_nbformat": 4,
  "vscode": {
   "interpreter": {
    "hash": "a6476a585a37932237fba3db547c44bdabeec797f13168fec5ca1adf463f855b"
   }
  }
 },
 "nbformat": 4,
 "nbformat_minor": 2
}
